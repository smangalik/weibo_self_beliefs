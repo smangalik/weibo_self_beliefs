{
 "cells": [
  {
   "cell_type": "code",
   "execution_count": null,
   "id": "f72c310b",
   "metadata": {},
   "outputs": [],
   "source": [
    "import pandas as pd\n",
    "from tqdm.notebook import tqdm\n",
    "import matplotlib.pyplot as plt\n",
    "import warnings\n",
    "warnings.filterwarnings(\"ignore\")"
   ]
  },
  {
   "cell_type": "code",
   "execution_count": 2,
   "id": "ce705e66",
   "metadata": {},
   "outputs": [
    {
     "data": {
      "text/html": [
       "<div>\n",
       "<style scoped>\n",
       "    .dataframe tbody tr th:only-of-type {\n",
       "        vertical-align: middle;\n",
       "    }\n",
       "\n",
       "    .dataframe tbody tr th {\n",
       "        vertical-align: top;\n",
       "    }\n",
       "\n",
       "    .dataframe thead th {\n",
       "        text-align: right;\n",
       "    }\n",
       "</style>\n",
       "<table border=\"1\" class=\"dataframe\">\n",
       "  <thead>\n",
       "    <tr style=\"text-align: right;\">\n",
       "      <th></th>\n",
       "      <th>weibo_id</th>\n",
       "      <th>user_id</th>\n",
       "      <th>content</th>\n",
       "      <th>timestamp</th>\n",
       "      <th>repost?</th>\n",
       "    </tr>\n",
       "  </thead>\n",
       "  <tbody>\n",
       "    <tr>\n",
       "      <th>0</th>\n",
       "      <td>4329965703478798</td>\n",
       "      <td>4029934035</td>\n",
       "      <td>时尚穿搭阁莱穿搭时尚#时尚穿搭##口罩# 戴对口罩，抗菌又防过敏每次有流行感冒或传染疾...</td>\n",
       "      <td>2019-01-19 00:08:00+00:00</td>\n",
       "      <td>0</td>\n",
       "    </tr>\n",
       "    <tr>\n",
       "      <th>1</th>\n",
       "      <td>4329966915040183</td>\n",
       "      <td>9090730462</td>\n",
       "      <td>韩国MERS  疫情：逾八成患者被5名“超级病人”传染 t.cn/RUykdC8</td>\n",
       "      <td>2019-01-19 00:13:00+00:00</td>\n",
       "      <td>0</td>\n",
       "    </tr>\n",
       "    <tr>\n",
       "      <th>2</th>\n",
       "      <td>4329967263641157</td>\n",
       "      <td>3189178957</td>\n",
       "      <td>韩国ME  RS疫情：逾八成患者被5名“超级病人”传染 t.cn/RUykdC8</td>\n",
       "      <td>2019-01-19 00:15:00+00:00</td>\n",
       "      <td>0</td>\n",
       "    </tr>\n",
       "    <tr>\n",
       "      <th>3</th>\n",
       "      <td>4329967539732706</td>\n",
       "      <td>6787656883</td>\n",
       "      <td>#延安爆料# 2名养殖户用泔水喂猪被安塞分局依法拘留近几个月来，非洲猪瘟一直都是热门话题，随...</td>\n",
       "      <td>2019-01-19 00:16:00+00:00</td>\n",
       "      <td>0</td>\n",
       "    </tr>\n",
       "    <tr>\n",
       "      <th>4</th>\n",
       "      <td>4329969537234430</td>\n",
       "      <td>2123653743</td>\n",
       "      <td>韩国ME  RS疫情：逾八成患者被5名“超级病人”传染 t.cn/RUykdC8</td>\n",
       "      <td>2019-01-19 00:24:00+00:00</td>\n",
       "      <td>0</td>\n",
       "    </tr>\n",
       "    <tr>\n",
       "      <th>...</th>\n",
       "      <td>...</td>\n",
       "      <td>...</td>\n",
       "      <td>...</td>\n",
       "      <td>...</td>\n",
       "      <td>...</td>\n",
       "    </tr>\n",
       "    <tr>\n",
       "      <th>2319378</th>\n",
       "      <td>4487224605020283</td>\n",
       "      <td>2179656136</td>\n",
       "      <td>#今年是1961年以来气温第二高年份#去年的北京已经要疯了，今年待着口罩会不会口罩脸</td>\n",
       "      <td>2020-03-27 22:59:00+00:00</td>\n",
       "      <td>0</td>\n",
       "    </tr>\n",
       "    <tr>\n",
       "      <th>2319379</th>\n",
       "      <td>4487224592629032</td>\n",
       "      <td>2908929269</td>\n",
       "      <td>#武磊说出了国更爱国#谈到最近的感受武磊表示：刚开始我觉得在当地大多数人确实对这个不太重视，...</td>\n",
       "      <td>2020-03-27 22:59:00+00:00</td>\n",
       "      <td>0</td>\n",
       "    </tr>\n",
       "    <tr>\n",
       "      <th>2319380</th>\n",
       "      <td>4487224542270966</td>\n",
       "      <td>5316411426</td>\n",
       "      <td>#防抗新型冠状病毒肺炎#【晋江一男子隐瞒境外入泉行程轨迹被查】日前，晋江市池店镇潘湖村黄某海...</td>\n",
       "      <td>2020-03-27 22:59:00+00:00</td>\n",
       "      <td>0</td>\n",
       "    </tr>\n",
       "    <tr>\n",
       "      <th>2319381</th>\n",
       "      <td>4487224701320675</td>\n",
       "      <td>4659920810</td>\n",
       "      <td>风雪中党的声音传来 周六周日要加班冰雨中党的温暖送来 周末上班没补贴你听听这风雨 它有多大你...</td>\n",
       "      <td>2020-03-27 23:00:00+00:00</td>\n",
       "      <td>0</td>\n",
       "    </tr>\n",
       "    <tr>\n",
       "      <th>2319382</th>\n",
       "      <td>4487224702193847</td>\n",
       "      <td>9578348473</td>\n",
       "      <td>有一次性民用与医用口罩～有需要私信</td>\n",
       "      <td>2020-03-27 23:00:00+00:00</td>\n",
       "      <td>0</td>\n",
       "    </tr>\n",
       "  </tbody>\n",
       "</table>\n",
       "<p>2319383 rows × 5 columns</p>\n",
       "</div>"
      ],
      "text/plain": [
       "                 weibo_id     user_id  \\\n",
       "0        4329965703478798  4029934035   \n",
       "1        4329966915040183  9090730462   \n",
       "2        4329967263641157  3189178957   \n",
       "3        4329967539732706  6787656883   \n",
       "4        4329969537234430  2123653743   \n",
       "...                   ...         ...   \n",
       "2319378  4487224605020283  2179656136   \n",
       "2319379  4487224592629032  2908929269   \n",
       "2319380  4487224542270966  5316411426   \n",
       "2319381  4487224701320675  4659920810   \n",
       "2319382  4487224702193847  9578348473   \n",
       "\n",
       "                                                   content  \\\n",
       "0        时尚穿搭阁莱穿搭时尚#时尚穿搭##口罩# 戴对口罩，抗菌又防过敏每次有流行感冒或传染疾...   \n",
       "1                 韩国MERS  疫情：逾八成患者被5名“超级病人”传染 t.cn/RUykdC8   \n",
       "2                 韩国ME  RS疫情：逾八成患者被5名“超级病人”传染 t.cn/RUykdC8   \n",
       "3        #延安爆料# 2名养殖户用泔水喂猪被安塞分局依法拘留近几个月来，非洲猪瘟一直都是热门话题，随...   \n",
       "4                 韩国ME  RS疫情：逾八成患者被5名“超级病人”传染 t.cn/RUykdC8   \n",
       "...                                                    ...   \n",
       "2319378         #今年是1961年以来气温第二高年份#去年的北京已经要疯了，今年待着口罩会不会口罩脸   \n",
       "2319379  #武磊说出了国更爱国#谈到最近的感受武磊表示：刚开始我觉得在当地大多数人确实对这个不太重视，...   \n",
       "2319380  #防抗新型冠状病毒肺炎#【晋江一男子隐瞒境外入泉行程轨迹被查】日前，晋江市池店镇潘湖村黄某海...   \n",
       "2319381  风雪中党的声音传来 周六周日要加班冰雨中党的温暖送来 周末上班没补贴你听听这风雨 它有多大你...   \n",
       "2319382                                  有一次性民用与医用口罩～有需要私信   \n",
       "\n",
       "                         timestamp  repost?  \n",
       "0        2019-01-19 00:08:00+00:00        0  \n",
       "1        2019-01-19 00:13:00+00:00        0  \n",
       "2        2019-01-19 00:15:00+00:00        0  \n",
       "3        2019-01-19 00:16:00+00:00        0  \n",
       "4        2019-01-19 00:24:00+00:00        0  \n",
       "...                            ...      ...  \n",
       "2319378  2020-03-27 22:59:00+00:00        0  \n",
       "2319379  2020-03-27 22:59:00+00:00        0  \n",
       "2319380  2020-03-27 22:59:00+00:00        0  \n",
       "2319381  2020-03-27 23:00:00+00:00        0  \n",
       "2319382  2020-03-27 23:00:00+00:00        0  \n",
       "\n",
       "[2319383 rows x 5 columns]"
      ]
     },
     "execution_count": 2,
     "metadata": {},
     "output_type": "execute_result"
    }
   ],
   "source": [
    "df_no_repost = pd.read_csv('leidin_weibo_corpus_no_reposts.csv', encoding='utf-8')\n",
    "df_no_repost"
   ]
  },
  {
   "cell_type": "code",
   "execution_count": 3,
   "id": "76eb94dc",
   "metadata": {},
   "outputs": [
    {
     "name": "stdout",
     "output_type": "stream",
     "text": [
      "Total number of non-reposts: 2319383\n",
      "Number of posts containing first-person pronouns: 798367\n",
      "Number of posts after filtering by content length: 642330\n"
     ]
    },
    {
     "data": {
      "image/png": "[encoded data removed]",
      "text/plain": [
       "<Figure size 720x432 with 1 Axes>"
      ]
     },
     "metadata": {
      "needs_background": "light"
     },
     "output_type": "display_data"
    }
   ],
   "source": [
    "print(f\"Total number of non-reposts: {len(df_no_repost)}\")\n",
    "\n",
    "df_i = df_no_repost[\n",
    "    df_no_repost['content'].str.contains('我') | \n",
    "    df_no_repost['content'].str.contains('本人') | \n",
    "    df_no_repost['content'].str.contains('吾') |\n",
    "    df_no_repost['content'].str.contains('余') |\n",
    "    df_no_repost['content'].str.contains('咱') |\n",
    "    df_no_repost['content'].str.contains('俺') \n",
    "]\n",
    "\n",
    "print(f\"Number of posts containing first-person pronouns: {len(df_i)}\")\n",
    "\n",
    "df_i['content_len'] = df_i['content'].apply(lambda x: len(x))\n",
    "df_i = df_i[df_i['content_len'] <= 300]\n",
    "df_i = df_i[df_i['content_len'] >= 3]\n",
    "\n",
    "print(f\"Number of posts after filtering by content length: {len(df_i)}\")\n",
    "\n",
    "#plot distribution of content length\n",
    "plt.figure(figsize=(10, 6))\n",
    "plt.hist(df_i['content_len'], bins=100, color='blue', alpha=0.7)\n",
    "plt.title('Distribution of Content Length')\n",
    "plt.xlabel('Content Length')\n",
    "plt.ylabel('Frequency')\n",
    "plt.grid(axis='y', alpha=0.75)\n",
    "plt.show()\n",
    "\n",
    "#df_i.to_csv('leidin_weibo_corpus_first_person.csv', index=False, encoding='utf-8')"
   ]
  },
  {
   "cell_type": "code",
   "execution_count": null,
   "id": "3a613cb7",
   "metadata": {},
   "outputs": [
    {
     "data": {
      "application/vnd.jupyter.widget-view+json": {
       "model_id": "305ca58de28848e0a40d4c964c55229e",
       "version_major": 2,
       "version_minor": 0
      },
      "text/plain": [
       "0it [00:00, ?it/s]"
      ]
     },
     "metadata": {},
     "output_type": "display_data"
    },
    {
     "name": "stdout",
     "output_type": "stream",
     "text": [
      "Translating row 0 of 642330\n"
     ]
    }
   ],
   "source": [
    "from deep_translator import GoogleTranslator\n",
    "\n",
    "df_translate = pd.read_csv('leidin_weibo_corpus_first_person_translated.csv', encoding='utf-8')\n",
    "\n",
    "translations = df_translate['content_en'].tolist()\n",
    "translator = GoogleTranslator(source='zh-CN', target='en')\n",
    "for i, row in tqdm(df_translate.iterrows()):\n",
    "    if row['content_en'] != \"\": # skip empty content\n",
    "        continue\n",
    "    if i % 1000 == 0:\n",
    "        print(f\"Translating row {i} of {len(df_translate)}\")\n",
    "        # save translations so far to avoid losing progress\n",
    "        df_translate['content_en'] = translations\n",
    "        df_translate.to_csv('leidin_weibo_corpus_first_person_translated.csv', index=False, encoding='utf-8')\n",
    "    try:\n",
    "        translation = translator.translate(row['content'])\n",
    "        translations[i] = translation\n",
    "    except Exception as e:\n",
    "        print(f\"Error translating {row['content']} at row {i}: {e}\")\n",
    "        translations[i] = \"\" "
   ]
  }
 ],
 "metadata": {
  "kernelspec": {
   "display_name": "Python 3",
   "language": "python",
   "name": "python3"
  },
  "language_info": {
   "codemirror_mode": {
    "name": "ipython",
    "version": 3
   },
   "file_extension": ".py",
   "mimetype": "text/x-python",
   "name": "python",
   "nbconvert_exporter": "python",
   "pygments_lexer": "ipython3",
   "version": "3.9.0"
  }
 },
 "nbformat": 4,
 "nbformat_minor": 5
}
