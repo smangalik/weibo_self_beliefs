{
 "cells": [
  {
   "cell_type": "code",
   "execution_count": null,
   "id": "8f6f00cd",
   "metadata": {},
   "outputs": [],
   "source": [
    "from deep_translator import GoogleTranslator\n",
    "import pandas as pd\n",
    "from tqdm import tqdm\n",
    "import warnings\n",
    "warnings.filterwarnings(\"ignore\")\n",
    "\n",
    "df_translate = pd.read_csv('leidin_weibo_corpus_first_person_translated.csv', encoding='utf-8')\n",
    "\n",
    "translations = df_translate['content_en'].tolist()\n",
    "translator = GoogleTranslator(source='zh-CN', target='en')\n",
    "for i, row in tqdm(df_translate.iterrows()):\n",
    "    if row['content_en'] != \"\": # skip empty content\n",
    "        continue\n",
    "    if i % 1000 == 0:\n",
    "        print(f\"Translating row {i} of {len(df_translate)}\")\n",
    "        # save translations so far to avoid losing progress\n",
    "        df_translate['content_en'] = translations\n",
    "        df_translate.to_csv('leidin_weibo_corpus_first_person_translated.csv', index=False, encoding='utf-8')\n",
    "    try:\n",
    "        translation = translator.translate(row['content'])\n",
    "        translations[i] = translation\n",
    "    except Exception as e:\n",
    "        print(f\"Error translating {row['content']} at row {i}: {e}\")\n",
    "        translations.append(None)"
   ]
  }
 ],
 "metadata": {
  "language_info": {
   "name": "python"
  }
 },
 "nbformat": 4,
 "nbformat_minor": 5
}
